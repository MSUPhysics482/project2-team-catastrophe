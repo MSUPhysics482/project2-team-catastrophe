{
 "cells": [
  {
   "cell_type": "code",
   "execution_count": 1,
   "metadata": {
    "collapsed": false,
    "deletable": true,
    "editable": true
   },
   "outputs": [
    {
     "ename": "RuntimeError",
     "evalue": "module compiled against API version 0xa but this version of numpy is 0x9",
     "output_type": "error",
     "traceback": [
      "\u001b[0;31m---------------------------------------------------------------------------\u001b[0m",
      "\u001b[0;31mRuntimeError\u001b[0m                              Traceback (most recent call last)",
      "\u001b[0;31mRuntimeError\u001b[0m: module compiled against API version 0xa but this version of numpy is 0x9"
     ]
    },
    {
     "ename": "NameError",
     "evalue": "name 'hoomd' is not defined",
     "output_type": "error",
     "traceback": [
      "\u001b[0;31m---------------------------------------------------------------------------\u001b[0m",
      "\u001b[0;31mNameError\u001b[0m                                 Traceback (most recent call last)",
      "\u001b[0;32m<ipython-input-1-38a2c1f42aa9>\u001b[0m in \u001b[0;36m<module>\u001b[0;34m()\u001b[0m\n\u001b[1;32m     15\u001b[0m \u001b[0;32mfrom\u001b[0m \u001b[0mpylab\u001b[0m \u001b[0;32mimport\u001b[0m \u001b[0;34m*\u001b[0m\u001b[0;34m\u001b[0m\u001b[0m\n\u001b[1;32m     16\u001b[0m \u001b[0;34m\u001b[0m\u001b[0m\n\u001b[0;32m---> 17\u001b[0;31m \u001b[0mhoomd\u001b[0m\u001b[0;34m.\u001b[0m\u001b[0mcontext\u001b[0m\u001b[0;34m.\u001b[0m\u001b[0minitialize\u001b[0m\u001b[0;34m(\u001b[0m\u001b[0;34m\"CPU\"\u001b[0m\u001b[0;34m)\u001b[0m\u001b[0;34m;\u001b[0m\u001b[0;34m\u001b[0m\u001b[0m\n\u001b[0m\u001b[1;32m     18\u001b[0m \u001b[0;34m\u001b[0m\u001b[0m\n\u001b[1;32m     19\u001b[0m \u001b[0;31m#Creating our lattice. 16 x 16 2D sheet\u001b[0m\u001b[0;34m\u001b[0m\u001b[0;34m\u001b[0m\u001b[0m\n",
      "\u001b[0;31mNameError\u001b[0m: name 'hoomd' is not defined"
     ]
    }
   ],
   "source": [
    "#Our original contribution will be in the form of a hard particle Monte Carlo\n",
    "#simulation. The idea here is to use the HOOMD (Monte Carlo package) library\n",
    "#to generate a rigid lattice with charged particles, and calculate\n",
    "#the strain on the lattice when an external electric field is applied.\n",
    "#Using this method we can draw some conclusions about the inverse piezo-\n",
    "#electric effect where an electric field produced mechanical strain on the\n",
    "#system.\n",
    "\n",
    "#Team Catastrophe\n",
    "#Joshua Milem & Anna Turnbull\n",
    "\n",
    "from hoomd import *\n",
    "import hoomd.md as md\n",
    "import numpy as np\n",
    "from pylab import *\n",
    "\n",
    "hoomd.context.initialize(\"CPU\");\n",
    "\n",
    "#Creating our lattice. 16 x 16 2D sheet\n",
    "\n",
    "unit_cell = hoomd.lattice.unitcell(N = 1, \n",
    "                                  a1 = [12,0,0],\n",
    "                                  a2 = [0,1,0],\n",
    "                                  a3 = [0,0,1],\n",
    "                                  dimensions = 3,\n",
    "                                  position = [[0,0,0]],\n",
    "                                  type_name = ['R'],\n",
    "                                  mass = [147.84558],\n",
    "                                  moment_inertia = [[0,\n",
    "                                                    1/12*1.0*8**2,\n",
    "                                                    1/12*1.0*8**2]],\n",
    "                                  orientation = [[1,0,0,0]]);\n",
    "system = hoomd.init.create_lattice(unitcell=unit_cell, n=[1,16,16])\n",
    "\n",
    "system.particles.types.add('A')\n",
    "n1 = md.nlist.cell()\n",
    "all = group.all()\n",
    "\n",
    "#Create rigid bodies on either side of the 2D sheet to simulate crystal\n",
    "\n",
    "crystallize = hoomd.md.constrain.rigid()\n",
    "crystallize.set_param('R', types=['A']*4,\n",
    "                     positions=[(-2,0,0),(-1,0,0),(1,0,0),(2,0,0)])\n",
    "\n",
    "\n",
    "crystallize.create_bodies()\n",
    "\n",
    "crystal = hoomd.group.rigid_center()\n",
    "\n",
    "#NVT thermostat integration, may switch to Brownian to fix anisotropy error\n",
    "\n",
    "md.integrate.mode_standard(dt=0.005)\n",
    "md.integrate.nvt(crystal, kT=1.0, tau=0.05)\n",
    "\n",
    "run(100)\n",
    "\n",
    "\n",
    "\n",
    "%matplotlib inline\n",
    "import numpy as np\n",
    "from mpl_toolkits.mplot3d import Axes3D\n",
    "import matplotlib.pyplot as plt\n",
    "\n",
    "snapshot = system.take_snapshot(all=True)\n",
    "pos = snapshot.particles.position\n",
    "\n",
    "fig = plt.figure()\n",
    "ax = fig.add_subplot(111, projection = '3d')\n",
    "for part in pos:\n",
    "    ax.scatter(part[0], part[1], part[2], c='b')\n",
    "plt.show()\n",
    "\n",
    "\n",
    "\n",
    "#Currently the issue is coupling the free particle layer to the rigid bodies.\n",
    "#I do not think this will take much work, I just ran out of time for this \n",
    "#piece of the project. \n",
    "\n",
    "#HOOMD has an internal energy minimization function which will be used\n",
    "#to calculate the final energy once the electric strain is applied,\n",
    "#otherwise strain will be inaccurate.\n"
   ]
  },
  {
   "cell_type": "code",
   "execution_count": null,
   "metadata": {
    "collapsed": false,
    "deletable": true,
    "editable": true
   },
   "outputs": [],
   "source": []
  },
  {
   "cell_type": "code",
   "execution_count": null,
   "metadata": {
    "collapsed": true,
    "deletable": true,
    "editable": true
   },
   "outputs": [],
   "source": []
  }
 ],
 "metadata": {
  "kernelspec": {
   "display_name": "Python 3",
   "language": "python",
   "name": "python3"
  },
  "language_info": {
   "codemirror_mode": {
    "name": "ipython",
    "version": 3
   },
   "file_extension": ".py",
   "mimetype": "text/x-python",
   "name": "python",
   "nbconvert_exporter": "python",
   "pygments_lexer": "ipython3",
   "version": "3.4.5"
  }
 },
 "nbformat": 4,
 "nbformat_minor": 2
}
